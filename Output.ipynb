{
 "cells": [
  {
   "cell_type": "code",
   "execution_count": 1,
   "metadata": {},
   "outputs": [],
   "source": [
    "from music21 import *\n"
   ]
  },
  {
   "cell_type": "code",
   "execution_count": 2,
   "metadata": {},
   "outputs": [],
   "source": [
    "us = environment.UserSettings()"
   ]
  },
  {
   "cell_type": "code",
   "execution_count": 3,
   "metadata": {},
   "outputs": [],
   "source": [
    "#us['musicxmlPath'] = 'C:\\Program Files (x86)\\Finale NotePad 2012\\Finale NotePad.exe'\n",
    "us['musicxmlPath'] = 'C:/Program Files (x86)/MuseScore 2/bin/MuseScore.exe'\n",
    "us['musescoreDirectPNGPath'] = 'C:/Program Files (x86)/MuseScore 2/bin/MuseScore.exe'"
   ]
  },
  {
   "cell_type": "code",
   "execution_count": 7,
   "metadata": {},
   "outputs": [
    {
     "name": "stdout",
     "output_type": "stream",
     "text": [
      "C:\\Program Files (x86)\\MuseScore 2\\bin\\MuseScore.exe\n"
     ]
    }
   ],
   "source": [
    "print(us['musicxmlPath'])"
   ]
  },
  {
   "cell_type": "code",
   "execution_count": 8,
   "metadata": {},
   "outputs": [],
   "source": [
    "from music21 import *\n",
    "b = corpus.parse('bach/bwv66.6')\n",
    "b.show('musicxml') # I've altered this so it's much shorter than it should be..."
   ]
  },
  {
   "cell_type": "code",
   "execution_count": 9,
   "metadata": {
    "scrolled": true
   },
   "outputs": [
    {
     "data": {
      "text/html": [
       "\n",
       "                <div id='midiPlayerDiv3664'></div>\n",
       "                <link rel=\"stylesheet\" href=\"//cuthbertLab.github.io/music21j/css/m21.css\"\n",
       "                    type=\"text/css\" />\n",
       "                <script>\n",
       "                require.config({\n",
       "                    paths: {'music21': '//cuthbertLab.github.io/music21j/src/music21'}\n",
       "                });\n",
       "                require(['music21'], function() {\n",
       "                               mp = new music21.miditools.MidiPlayer();\n",
       "                               mp.addPlayer('#midiPlayerDiv3664');\n",
       "                               mp.base64Load('data:audio/midi;base64,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');\n",
       "                        });\n",
       "                </script>"
      ],
      "text/plain": [
       "<IPython.core.display.HTML object>"
      ]
     },
     "metadata": {},
     "output_type": "display_data"
    }
   ],
   "source": [
    "b.show('midi')"
   ]
  },
  {
   "cell_type": "code",
   "execution_count": 10,
   "metadata": {},
   "outputs": [],
   "source": [
    "f = note.Note(\"A3\")"
   ]
  },
  {
   "cell_type": "code",
   "execution_count": 36,
   "metadata": {},
   "outputs": [],
   "source": [
    "f.duration = duration.Duration(4)\n",
    "f.pitch.frequency = 500"
   ]
  },
  {
   "cell_type": "code",
   "execution_count": 37,
   "metadata": {},
   "outputs": [
    {
     "name": "stdout",
     "output_type": "stream",
     "text": [
      "500.00000422677886\n",
      "B4(+21c)\n",
      "<music21.duration.Duration 4.0>\n"
     ]
    }
   ],
   "source": [
    "print(f.pitch.frequency)\n",
    "print(f.pitch)\n",
    "print(f.duration)"
   ]
  },
  {
   "cell_type": "code",
   "execution_count": 38,
   "metadata": {},
   "outputs": [],
   "source": [
    "f.show('musicxml')"
   ]
  },
  {
   "cell_type": "code",
   "execution_count": 12,
   "metadata": {},
   "outputs": [],
   "source": [
    "r = note.Rest(type='whole')\n",
    "r.show('musicxml')"
   ]
  },
  {
   "cell_type": "code",
   "execution_count": 39,
   "metadata": {},
   "outputs": [],
   "source": [
    "noteList = []\n",
    "noteList.append(f)\n",
    "noteList.append(b)"
   ]
  },
  {
   "cell_type": "code",
   "execution_count": 40,
   "metadata": {},
   "outputs": [
    {
     "data": {
      "text/plain": [
       "[<music21.note.Note B>, <music21.stream.Score 0x23da2e3fa90>]"
      ]
     },
     "execution_count": 40,
     "metadata": {},
     "output_type": "execute_result"
    }
   ],
   "source": [
    "noteList"
   ]
  },
  {
   "cell_type": "code",
   "execution_count": 4,
   "metadata": {},
   "outputs": [],
   "source": [
    "stream1 = stream.Stream()\n",
    "note1 = note.Note('D#5')\n",
    "stream1.repeatAppend(note1, 4)"
   ]
  },
  {
   "cell_type": "code",
   "execution_count": 60,
   "metadata": {},
   "outputs": [
    {
     "name": "stdout",
     "output_type": "stream",
     "text": [
      "{0.0} <music21.note.Note D#>\n",
      "{1.0} <music21.note.Note D#>\n",
      "{2.0} <music21.note.Note D#>\n",
      "{3.0} <music21.note.Note D#>\n"
     ]
    }
   ],
   "source": [
    "stream1.show('text')"
   ]
  },
  {
   "cell_type": "code",
   "execution_count": 61,
   "metadata": {},
   "outputs": [],
   "source": [
    "stream1.show('musicxml')"
   ]
  },
  {
   "cell_type": "code",
   "execution_count": 62,
   "metadata": {},
   "outputs": [],
   "source": [
    "stream1.append(note.Note('C4'))"
   ]
  },
  {
   "cell_type": "code",
   "execution_count": 63,
   "metadata": {},
   "outputs": [
    {
     "data": {
      "text/html": [
       "\n",
       "                <div id='midiPlayerDiv16087'></div>\n",
       "                <link rel=\"stylesheet\" href=\"//cuthbertLab.github.io/music21j/css/m21.css\"\n",
       "                    type=\"text/css\" />\n",
       "                <script>\n",
       "                require.config({\n",
       "                    paths: {'music21': '//cuthbertLab.github.io/music21j/src/music21'}\n",
       "                });\n",
       "                require(['music21'], function() {\n",
       "                               mp = new music21.miditools.MidiPlayer();\n",
       "                               mp.addPlayer('#midiPlayerDiv16087');\n",
       "                               mp.base64Load('data:audio/midi;base64,TVRoZAAAAAYAAQABBABNVHJrAAAAOgD/AwAA4ABAAJBLWogAgEsAAJBLWogAgEsAAJBLWogAgEsAAJBLWogAgEsAAJA8WogAgDwAiAD/LwA=');\n",
       "                        });\n",
       "                </script>"
      ],
      "text/plain": [
       "<IPython.core.display.HTML object>"
      ]
     },
     "metadata": {},
     "output_type": "display_data"
    }
   ],
   "source": [
    "stream1.show('midi')"
   ]
  },
  {
   "cell_type": "code",
   "execution_count": 6,
   "metadata": {},
   "outputs": [
    {
     "ename": "FileNotFoundError",
     "evalue": "[Errno 2] No such file or directory: '//midi_files//out.mid'",
     "output_type": "error",
     "traceback": [
      "\u001b[1;31m---------------------------------------------------------------------------\u001b[0m",
      "\u001b[1;31mFileNotFoundError\u001b[0m                         Traceback (most recent call last)",
      "\u001b[1;32m<ipython-input-6-b405d3a80f5a>\u001b[0m in \u001b[0;36m<module>\u001b[1;34m\u001b[0m\n\u001b[1;32m----> 1\u001b[1;33m \u001b[0mstream1\u001b[0m\u001b[1;33m.\u001b[0m\u001b[0mwrite\u001b[0m\u001b[1;33m(\u001b[0m\u001b[1;34m\"midi\"\u001b[0m\u001b[1;33m,\u001b[0m \u001b[1;34m'//midi_files//out.mid'\u001b[0m\u001b[1;33m)\u001b[0m\u001b[1;33m\u001b[0m\u001b[1;33m\u001b[0m\u001b[0m\n\u001b[0m",
      "\u001b[1;32m~\\Anaconda3\\lib\\site-packages\\music21\\stream\\__init__.py\u001b[0m in \u001b[0;36mwrite\u001b[1;34m(self, *args, **kwargs)\u001b[0m\n\u001b[0;32m    249\u001b[0m         \u001b[1;32mif\u001b[0m \u001b[0mself\u001b[0m\u001b[1;33m.\u001b[0m\u001b[0misSorted\u001b[0m \u001b[1;32mis\u001b[0m \u001b[1;32mFalse\u001b[0m \u001b[1;32mand\u001b[0m \u001b[0mself\u001b[0m\u001b[1;33m.\u001b[0m\u001b[0mautoSort\u001b[0m\u001b[1;33m:\u001b[0m\u001b[1;33m\u001b[0m\u001b[1;33m\u001b[0m\u001b[0m\n\u001b[0;32m    250\u001b[0m             \u001b[0mself\u001b[0m\u001b[1;33m.\u001b[0m\u001b[0msort\u001b[0m\u001b[1;33m(\u001b[0m\u001b[1;33m)\u001b[0m\u001b[1;33m\u001b[0m\u001b[1;33m\u001b[0m\u001b[0m\n\u001b[1;32m--> 251\u001b[1;33m         \u001b[1;32mreturn\u001b[0m \u001b[0msuper\u001b[0m\u001b[1;33m(\u001b[0m\u001b[1;33m)\u001b[0m\u001b[1;33m.\u001b[0m\u001b[0mwrite\u001b[0m\u001b[1;33m(\u001b[0m\u001b[1;33m*\u001b[0m\u001b[0margs\u001b[0m\u001b[1;33m,\u001b[0m \u001b[1;33m**\u001b[0m\u001b[0mkwargs\u001b[0m\u001b[1;33m)\u001b[0m\u001b[1;33m\u001b[0m\u001b[1;33m\u001b[0m\u001b[0m\n\u001b[0m\u001b[0;32m    252\u001b[0m \u001b[1;33m\u001b[0m\u001b[0m\n\u001b[0;32m    253\u001b[0m \u001b[1;33m\u001b[0m\u001b[0m\n",
      "\u001b[1;32m~\\Anaconda3\\lib\\site-packages\\music21\\base.py\u001b[0m in \u001b[0;36mwrite\u001b[1;34m(self, fmt, fp, **keywords)\u001b[0m\n\u001b[0;32m   2504\u001b[0m         \u001b[0mscClass\u001b[0m \u001b[1;33m=\u001b[0m \u001b[0mcommon\u001b[0m\u001b[1;33m.\u001b[0m\u001b[0mfindSubConverterForFormat\u001b[0m\u001b[1;33m(\u001b[0m\u001b[0mregularizedConverterFormat\u001b[0m\u001b[1;33m)\u001b[0m\u001b[1;33m\u001b[0m\u001b[1;33m\u001b[0m\u001b[0m\n\u001b[0;32m   2505\u001b[0m         \u001b[0mformatWriter\u001b[0m \u001b[1;33m=\u001b[0m \u001b[0mscClass\u001b[0m\u001b[1;33m(\u001b[0m\u001b[1;33m)\u001b[0m\u001b[1;33m\u001b[0m\u001b[1;33m\u001b[0m\u001b[0m\n\u001b[1;32m-> 2506\u001b[1;33m         \u001b[1;32mreturn\u001b[0m \u001b[0mformatWriter\u001b[0m\u001b[1;33m.\u001b[0m\u001b[0mwrite\u001b[0m\u001b[1;33m(\u001b[0m\u001b[0mself\u001b[0m\u001b[1;33m,\u001b[0m \u001b[0mregularizedConverterFormat\u001b[0m\u001b[1;33m,\u001b[0m \u001b[0mfp\u001b[0m\u001b[1;33m,\u001b[0m \u001b[0msubformats\u001b[0m\u001b[1;33m,\u001b[0m \u001b[1;33m**\u001b[0m\u001b[0mkeywords\u001b[0m\u001b[1;33m)\u001b[0m\u001b[1;33m\u001b[0m\u001b[1;33m\u001b[0m\u001b[0m\n\u001b[0m\u001b[0;32m   2507\u001b[0m \u001b[1;33m\u001b[0m\u001b[0m\n\u001b[0;32m   2508\u001b[0m \u001b[1;33m\u001b[0m\u001b[0m\n",
      "\u001b[1;32m~\\Anaconda3\\lib\\site-packages\\music21\\converter\\subConverters.py\u001b[0m in \u001b[0;36mwrite\u001b[1;34m(self, obj, fmt, fp, subformats, **keywords)\u001b[0m\n\u001b[0;32m    987\u001b[0m             \u001b[0mfp\u001b[0m \u001b[1;33m=\u001b[0m \u001b[0mself\u001b[0m\u001b[1;33m.\u001b[0m\u001b[0mgetTemporaryFile\u001b[0m\u001b[1;33m(\u001b[0m\u001b[1;33m)\u001b[0m\u001b[1;33m\u001b[0m\u001b[1;33m\u001b[0m\u001b[0m\n\u001b[0;32m    988\u001b[0m         \u001b[0mmf\u001b[0m \u001b[1;33m=\u001b[0m \u001b[0mmidiTranslate\u001b[0m\u001b[1;33m.\u001b[0m\u001b[0mmusic21ObjectToMidiFile\u001b[0m\u001b[1;33m(\u001b[0m\u001b[0mobj\u001b[0m\u001b[1;33m)\u001b[0m\u001b[1;33m\u001b[0m\u001b[1;33m\u001b[0m\u001b[0m\n\u001b[1;32m--> 989\u001b[1;33m         \u001b[0mmf\u001b[0m\u001b[1;33m.\u001b[0m\u001b[0mopen\u001b[0m\u001b[1;33m(\u001b[0m\u001b[0mfp\u001b[0m\u001b[1;33m,\u001b[0m \u001b[1;34m'wb'\u001b[0m\u001b[1;33m)\u001b[0m \u001b[1;31m# write binary\u001b[0m\u001b[1;33m\u001b[0m\u001b[1;33m\u001b[0m\u001b[0m\n\u001b[0m\u001b[0;32m    990\u001b[0m         \u001b[0mmf\u001b[0m\u001b[1;33m.\u001b[0m\u001b[0mwrite\u001b[0m\u001b[1;33m(\u001b[0m\u001b[1;33m)\u001b[0m\u001b[1;33m\u001b[0m\u001b[1;33m\u001b[0m\u001b[0m\n\u001b[0;32m    991\u001b[0m         \u001b[0mmf\u001b[0m\u001b[1;33m.\u001b[0m\u001b[0mclose\u001b[0m\u001b[1;33m(\u001b[0m\u001b[1;33m)\u001b[0m\u001b[1;33m\u001b[0m\u001b[1;33m\u001b[0m\u001b[0m\n",
      "\u001b[1;32m~\\Anaconda3\\lib\\site-packages\\music21\\midi\\__init__.py\u001b[0m in \u001b[0;36mopen\u001b[1;34m(self, filename, attrib)\u001b[0m\n\u001b[0;32m   1246\u001b[0m         \u001b[1;32mif\u001b[0m \u001b[0mattrib\u001b[0m \u001b[1;32mnot\u001b[0m \u001b[1;32min\u001b[0m \u001b[1;33m[\u001b[0m\u001b[1;34m'rb'\u001b[0m\u001b[1;33m,\u001b[0m \u001b[1;34m'wb'\u001b[0m\u001b[1;33m]\u001b[0m\u001b[1;33m:\u001b[0m\u001b[1;33m\u001b[0m\u001b[1;33m\u001b[0m\u001b[0m\n\u001b[0;32m   1247\u001b[0m             \u001b[1;32mraise\u001b[0m \u001b[0mMidiException\u001b[0m\u001b[1;33m(\u001b[0m\u001b[1;34m'cannot read or write unless in binary mode, not:'\u001b[0m\u001b[1;33m,\u001b[0m \u001b[0mattrib\u001b[0m\u001b[1;33m)\u001b[0m\u001b[1;33m\u001b[0m\u001b[1;33m\u001b[0m\u001b[0m\n\u001b[1;32m-> 1248\u001b[1;33m         \u001b[0mself\u001b[0m\u001b[1;33m.\u001b[0m\u001b[0mfile\u001b[0m \u001b[1;33m=\u001b[0m \u001b[0mopen\u001b[0m\u001b[1;33m(\u001b[0m\u001b[0mstr\u001b[0m\u001b[1;33m(\u001b[0m\u001b[0mfilename\u001b[0m\u001b[1;33m)\u001b[0m\u001b[1;33m,\u001b[0m \u001b[0mattrib\u001b[0m\u001b[1;33m)\u001b[0m\u001b[1;33m\u001b[0m\u001b[1;33m\u001b[0m\u001b[0m\n\u001b[0m\u001b[0;32m   1249\u001b[0m \u001b[1;33m\u001b[0m\u001b[0m\n\u001b[0;32m   1250\u001b[0m     \u001b[1;32mdef\u001b[0m \u001b[0mopenFileLike\u001b[0m\u001b[1;33m(\u001b[0m\u001b[0mself\u001b[0m\u001b[1;33m,\u001b[0m \u001b[0mfileLike\u001b[0m\u001b[1;33m)\u001b[0m\u001b[1;33m:\u001b[0m\u001b[1;33m\u001b[0m\u001b[1;33m\u001b[0m\u001b[0m\n",
      "\u001b[1;31mFileNotFoundError\u001b[0m: [Errno 2] No such file or directory: '//midi_files//out.mid'"
     ]
    }
   ],
   "source": [
    "stream1.write(\"midi\", '//midi_files//out.mid')"
   ]
  },
  {
   "cell_type": "code",
   "execution_count": null,
   "metadata": {},
   "outputs": [],
   "source": []
  }
 ],
 "metadata": {
  "kernelspec": {
   "display_name": "Python 3",
   "language": "python",
   "name": "python3"
  },
  "language_info": {
   "codemirror_mode": {
    "name": "ipython",
    "version": 3
   },
   "file_extension": ".py",
   "mimetype": "text/x-python",
   "name": "python",
   "nbconvert_exporter": "python",
   "pygments_lexer": "ipython3",
   "version": "3.7.1"
  }
 },
 "nbformat": 4,
 "nbformat_minor": 2
}
