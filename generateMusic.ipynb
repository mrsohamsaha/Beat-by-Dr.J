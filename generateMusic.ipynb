{
 "cells": [
  {
   "cell_type": "markdown",
   "metadata": {},
   "source": [
    "# Code for converting signals to music!"
   ]
  },
  {
   "cell_type": "markdown",
   "metadata": {},
   "source": [
    "### Environment Variables Setup"
   ]
  },
  {
   "cell_type": "code",
   "execution_count": 1,
   "metadata": {},
   "outputs": [],
   "source": [
    "from music21 import *\n",
    "import random\n",
    "import math\n",
    "import numpy as np"
   ]
  },
  {
   "cell_type": "code",
   "execution_count": 2,
   "metadata": {},
   "outputs": [],
   "source": [
    "us = environment.UserSettings()\n",
    "#us['musicxmlPath'] = 'C:\\Program Files (x86)\\Finale NotePad 2012\\Finale NotePad.exe'\n",
    "us['musicxmlPath'] = 'C:/Program Files (x86)/MuseScore 2/bin/MuseScore.exe'\n",
    "us['musescoreDirectPNGPath'] = 'C:/Program Files (x86)/MuseScore 2/bin/MuseScore.exe'"
   ]
  },
  {
   "cell_type": "markdown",
   "metadata": {},
   "source": [
    "### Signal Processing"
   ]
  },
  {
   "cell_type": "code",
   "execution_count": 3,
   "metadata": {},
   "outputs": [],
   "source": [
    "def sigmoid(x):\n",
    "    x = x - 3.5\n",
    "    return 1/(1+math.e**-x) * 1600"
   ]
  },
  {
   "cell_type": "code",
   "execution_count": 51,
   "metadata": {},
   "outputs": [],
   "source": [
    "def produce_freq():\n",
    "    data = np.loadtxt('output.txt')\n",
    "    # store most recent 10 inputs\n",
    "    recent = data[len(data) - 10: len(data)]\n",
    "    avg = 0\n",
    "    for i in range(len(recent)):\n",
    "        if recent[i] > -1:\n",
    "            avg+= recent[i]\n",
    "#     avg = np.mean(recent)\n",
    "    return sigmoid(avg)"
   ]
  },
  {
   "cell_type": "code",
   "execution_count": 59,
   "metadata": {},
   "outputs": [],
   "source": [
    "def produce_freq_random():\n",
    "    recent = np.random.rand(10)\n",
    "    avg = np.mean(recent)\n",
    "    return sigmoid(avg)"
   ]
  },
  {
   "cell_type": "code",
   "execution_count": 5,
   "metadata": {},
   "outputs": [],
   "source": [
    "def numberGen():\n",
    "    f = open('out.txt', \"a+\")\n",
    "    for i in range(10):\n",
    "        num = random.randint(0,8) \n",
    "        f.write(\"%d\\n\" % num)"
   ]
  },
  {
   "cell_type": "code",
   "execution_count": 8,
   "metadata": {},
   "outputs": [],
   "source": [
    "# def generate_music(stream_master):\n",
    "#     for k in range(10):\n",
    "#         current_stream  = stream.Stream()\n",
    "#         file_name = 'out' + str(k) + '.mid'\n",
    "#         for i in range(10):\n",
    "#             numberGen()\n",
    "#             freq = produce_freq()\n",
    "#             n = note.Note('C4')\n",
    "#             n.pitch.frequency = freq\n",
    "#             current_stream.append(n)\n",
    "#             stream_master.append(n)\n",
    "#         current_stream.write(\"midi\", file_name)\n",
    "#         file_path = 'C:/Users/mrsoh/Documents/Beats By Dr. Jay/' + str(file_name)\n",
    "#         s = converter.parse(file_path)\n",
    "#         for p in s.parts:\n",
    "#             p.insert(0, instrument.AcousticGuitar())\n",
    "#         s.write('midi', file_path)\n",
    "def sheet_music(s):\n",
    "    s.show('musicxml')\n",
    "    "
   ]
  },
  {
   "cell_type": "code",
   "execution_count": 53,
   "metadata": {},
   "outputs": [],
   "source": [
    "def generate_music(stream_master, instr):\n",
    "    for k in range(5):\n",
    "        current_stream  = stream.Stream()\n",
    "        file_name = 'out' + str(k) + '.mid'\n",
    "        for i in range(10):\n",
    "            freq = produce_freq()\n",
    "            n = note.Note('C4')\n",
    "            n.pitch.frequency = freq\n",
    "            current_stream.append(n)\n",
    "            stream_master.append(n)\n",
    "        current_stream.write(\"midi\", file_name)\n",
    "        file_path = 'C:/Users/mrsoh/Documents/Beats By Dr. Jay/' + str(file_name)\n",
    "        s = converter.parse(file_path)\n",
    "        if instr > 0:\n",
    "            if instr == 1:\n",
    "                for p in s.parts:\n",
    "                    p.insert(0, instrument.ElectricGuitar())\n",
    "            else:\n",
    "                for p in s.parts:\n",
    "                    p.insert(0, instrument.violin())\n",
    "        s.write('midi', file_path)\n",
    "        play_music(file_path)\n",
    "        print('Played ' + str(k*10 + 10) + ' notes')\n",
    "    print('Finished computing music!')"
   ]
  },
  {
   "cell_type": "code",
   "execution_count": 57,
   "metadata": {},
   "outputs": [],
   "source": [
    "def generate_music_backup(stream_master, instr):\n",
    "    for k in range(5):\n",
    "        current_stream  = stream.Stream()\n",
    "        file_name = 'out' + str(k) + '.mid'\n",
    "        for i in range(10):\n",
    "            freq = produce_freq_random()\n",
    "            n = note.Note('C4')\n",
    "            n.pitch.frequency = freq\n",
    "            current_stream.append(n)\n",
    "            stream_master.append(n)\n",
    "        current_stream.write(\"midi\", file_name)\n",
    "        file_path = 'C:/Users/mrsoh/Documents/Beats By Dr. Jay/' + str(file_name)\n",
    "        s = converter.parse(file_path)\n",
    "        if instr > 0:\n",
    "            if instr == 1:\n",
    "                for p in s.parts:\n",
    "                    p.insert(0, instrument.ElectricGuitar())\n",
    "            else:\n",
    "                for p in s.parts:\n",
    "                    p.insert(0, instrument.violin())\n",
    "        s.write('midi', file_path)\n",
    "        play_music(file_path)\n",
    "        print('Played ' + str(k*10 + 10) + ' notes')\n",
    "    print('Finished computing music!')"
   ]
  },
  {
   "cell_type": "markdown",
   "metadata": {},
   "source": [
    "### Music Output"
   ]
  },
  {
   "cell_type": "code",
   "execution_count": 46,
   "metadata": {},
   "outputs": [],
   "source": [
    "import pygame\n",
    "import time\n",
    "\n",
    "freq = 44100    # audio CD quality\n",
    "bitsize = -16   # unsigned 16 bit\n",
    "channels = 2    # 1 is mono, 2 is stereo\n",
    "buffer = 1024    # number of samples\n",
    "pygame.mixer.init(freq, bitsize, channels, buffer)\n",
    "\n",
    "def play_music(file_path):\n",
    "    clock = pygame.time.Clock()\n",
    "    pygame.mixer.music.load(file_path)\n",
    "    pygame.mixer.music.play()\n",
    "    while pygame.mixer.music.get_busy():\n",
    "        clock.tick(30)\n",
    "        ##pygame.mixer.music.queue('out1.mid')\n",
    "        ##pygame.mixer.music.queue('out2.mid')\n",
    "    "
   ]
  },
  {
   "cell_type": "code",
   "execution_count": 7,
   "metadata": {},
   "outputs": [
    {
     "name": "stdout",
     "output_type": "stream",
     "text": [
      "pygame 1.9.4\n",
      "Hello from the pygame community. https://www.pygame.org/contribute.html\n"
     ]
    }
   ],
   "source": [
    "# import pygame\n",
    "# import time\n",
    "\n",
    "# freq = 44100    # audio CD quality\n",
    "# bitsize = -16   # unsigned 16 bit\n",
    "# channels = 2    # 1 is mono, 2 is stereo\n",
    "# buffer = 1024    # number of samples\n",
    "# pygame.mixer.init(freq, bitsize, channels, buffer)\n",
    "\n",
    "# def play_music():\n",
    "#     clock = pygame.time.Clock()\n",
    "#     for k in range(10):\n",
    "#         print('Played ' + str(k*10 + 10) + ' notes')\n",
    "#         music_file = 'out' + str(k) + '.mid'\n",
    "#         pygame.mixer.music.load(music_file)\n",
    "#         pygame.mixer.music.play()\n",
    "#         while pygame.mixer.music.get_busy():\n",
    "#             clock.tick(30)\n",
    "#         ##pygame.mixer.music.queue('out1.mid')\n",
    "#         ##pygame.mixer.music.queue('out2.mid')\n",
    "#     print(\"Finished computing music!\")"
   ]
  },
  {
   "cell_type": "markdown",
   "metadata": {},
   "source": [
    "### Code to Run!"
   ]
  },
  {
   "cell_type": "markdown",
   "metadata": {},
   "source": [
    "All the code above should be loaded once\n"
   ]
  },
  {
   "cell_type": "markdown",
   "metadata": {},
   "source": [
    "Once person is hooked up and audrino is writing to the out.txt, run the code below ONCE"
   ]
  },
  {
   "cell_type": "code",
   "execution_count": 52,
   "metadata": {},
   "outputs": [
    {
     "name": "stdout",
     "output_type": "stream",
     "text": [
      "Played 10 notes\n",
      "Played 20 notes\n",
      "Played 30 notes\n",
      "Played 40 notes\n",
      "Played 50 notes\n",
      "Played 60 notes\n",
      "Played 70 notes\n",
      "Played 80 notes\n",
      "Played 90 notes\n",
      "Played 100 notes\n",
      "Finished computing music!\n"
     ]
    }
   ],
   "source": [
    "stream_master = stream.Stream()\n",
    "generate_music(stream_master,0)"
   ]
  },
  {
   "cell_type": "markdown",
   "metadata": {},
   "source": [
    "*Secret Backup Function*"
   ]
  },
  {
   "cell_type": "code",
   "execution_count": 60,
   "metadata": {},
   "outputs": [
    {
     "name": "stdout",
     "output_type": "stream",
     "text": [
      "Played 10 notes\n",
      "Played 20 notes\n",
      "Played 30 notes\n",
      "Played 40 notes\n",
      "Played 50 notes\n",
      "Finished computing music!\n"
     ]
    }
   ],
   "source": [
    "stream_master = stream.Stream()\n",
    "generate_music_backup(stream_master,0)"
   ]
  },
  {
   "cell_type": "markdown",
   "metadata": {},
   "source": [
    "Once music is finished playing, run the following code to produce sheet music"
   ]
  },
  {
   "cell_type": "code",
   "execution_count": 14,
   "metadata": {},
   "outputs": [],
   "source": [
    "sheet_music(stream_master)"
   ]
  },
  {
   "cell_type": "code",
   "execution_count": null,
   "metadata": {},
   "outputs": [],
   "source": []
  }
 ],
 "metadata": {
  "kernelspec": {
   "display_name": "Python 3",
   "language": "python",
   "name": "python3"
  },
  "language_info": {
   "codemirror_mode": {
    "name": "ipython",
    "version": 3
   },
   "file_extension": ".py",
   "mimetype": "text/x-python",
   "name": "python",
   "nbconvert_exporter": "python",
   "pygments_lexer": "ipython3",
   "version": "3.7.1"
  }
 },
 "nbformat": 4,
 "nbformat_minor": 2
}
